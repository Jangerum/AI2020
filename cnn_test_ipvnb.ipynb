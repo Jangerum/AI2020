{
  "nbformat": 4,
  "nbformat_minor": 0,
  "metadata": {
    "colab": {
      "name": "cnn-test.ipvnb",
      "provenance": [],
      "collapsed_sections": [],
      "authorship_tag": "ABX9TyNun/u5IlxsF/FXBvkAmrbv",
      "include_colab_link": true
    },
    "kernelspec": {
      "name": "python3",
      "display_name": "Python 3"
    },
    "accelerator": "GPU"
  },
  "cells": [
    {
      "cell_type": "markdown",
      "metadata": {
        "id": "view-in-github",
        "colab_type": "text"
      },
      "source": [
        "<a href=\"https://colab.research.google.com/github/Jangerum/AI2020/blob/master/cnn_test_ipvnb.ipynb\" target=\"_parent\"><img src=\"https://colab.research.google.com/assets/colab-badge.svg\" alt=\"Open In Colab\"/></a>"
      ]
    },
    {
      "cell_type": "code",
      "metadata": {
        "id": "rtYiwjMqxWhK",
        "colab_type": "code",
        "colab": {}
      },
      "source": [
        "import tensorflow as tf\n",
        "import keras \n",
        "\n",
        "from keras.models import Sequential\n",
        "from keras.layers import Conv2D, MaxPooling2D, Dense, Flatten, AveragePooling2D\n",
        "from keras.optimizers import Adam\n",
        "from keras.losses import sparse_categorical_crossentropy as scc\n",
        "from keras.datasets import cifar10\n",
        "\n",
        "import numpy as np"
      ],
      "execution_count": 15,
      "outputs": []
    },
    {
      "cell_type": "markdown",
      "metadata": {
        "id": "DAmSIrAjy_Js",
        "colab_type": "text"
      },
      "source": [
        "### data load\n",
        "\n",
        "### cnn model build\n",
        "\n",
        "### model evaluated"
      ]
    },
    {
      "cell_type": "code",
      "metadata": {
        "id": "amoMn2llzcRj",
        "colab_type": "code",
        "colab": {}
      },
      "source": [
        " def build_model(width, height, channel):  \n",
        "    model = Sequential()\n",
        "    \n",
        "    model.add(Conv2D(\n",
        "        filters=16,\n",
        "        kernel_size=(3,3),\n",
        "        padding='same',\n",
        "        activation='relu',\n",
        "        input_shape=(width, height, channel)\n",
        "    ))\n",
        "    model.add(Conv2D(\n",
        "        filters=16,\n",
        "        kernel_size=(3,3),\n",
        "        padding='same',\n",
        "        activation='relu'\n",
        "    ))\n",
        "    model.add(MaxPooling2D(\n",
        "        pool_size=(2,2),\n",
        "        padding='same'\n",
        "    ))\n",
        "\n",
        "    model.add(Conv2D(\n",
        "        filters=32,\n",
        "        kernel_size=(3,3),\n",
        "        padding='same',\n",
        "        activation='relu'\n",
        "    ))\n",
        "    model.add(MaxPooling2D(\n",
        "        pool_size=(2,2),\n",
        "        padding='same'\n",
        "    ))\n",
        "\n",
        "    model.add(Conv2D(\n",
        "        filters=64,\n",
        "        kernel_size=(3,3),\n",
        "        padding='same',\n",
        "        activation='relu'\n",
        "    ))\n",
        "    model.add(AveragePooling2D(\n",
        "        pool_size=(8,8),\n",
        "        padding='same'\n",
        "    ))\n",
        "\n",
        "    model.add(Flatten())\n",
        "    model.add(Dense(\n",
        "        units=640,\n",
        "        activation='relu'\n",
        "    ))\n",
        "    model.add(Dense(\n",
        "        units=10,\n",
        "        activation='softmax'\n",
        "    ))\n",
        "\n",
        "    opt = Adam(learning_rate=0.001)\n",
        "    model.compile(\n",
        "        optimizer=opt,\n",
        "        loss=scc,\n",
        "        metrics=['accuracy']\n",
        "    )\n",
        "\n",
        "    return model"
      ],
      "execution_count": 16,
      "outputs": []
    },
    {
      "cell_type": "code",
      "metadata": {
        "id": "8vx18zik96pR",
        "colab_type": "code",
        "colab": {}
      },
      "source": [
        "def data_preprocessing():\n",
        "    (X_train, Y_train), (X_test, Y_test) = cifar10.load_data()\n",
        "\n",
        "    mean=[0,0,0]\n",
        "    std=[0,0,0]\n",
        "    newX_train = np.ones(X_train.shape)\n",
        "    newX_test = np.ones(X_test.shape)\n",
        "    #train set에 있는 데이터로만 평균과 표준편차를 구함\n",
        "    for i in range(3):\n",
        "        mean[i] = np.mean(X_train[:,:,:,i])\n",
        "        std[i] = np.std(X_train[:,:,:,i])\n",
        "\n",
        "    #train과 test셋 모두 정규화 작업    \n",
        "    for i in range(3):\n",
        "        newX_train[:,:,:,i] = X_train[:,:,:,i] - mean[i]\n",
        "        newX_train[:,:,:,i] = newX_train[:,:,:,i] / std[i]\n",
        "        newX_test[:,:,:,i] = X_test[:,:,:,i] - mean[i]\n",
        "        newX_test[:,:,:,i] = newX_test[:,:,:,i] / std[i]\n",
        "            \n",
        "    X_train = newX_train\n",
        "    X_test = newX_test\n",
        "\n",
        "    return (X_train, Y_train), (X_test, Y_test)"
      ],
      "execution_count": 17,
      "outputs": []
    },
    {
      "cell_type": "code",
      "metadata": {
        "id": "Ajf_wUOzEDQ8",
        "colab_type": "code",
        "colab": {
          "base_uri": "https://localhost:8080/",
          "height": 1000
        },
        "outputId": "22072482-d436-4f58-d316-c5d9eb964681"
      },
      "source": [
        "#(X_train, Y_train), (X_test, Y_test) = data_preprocessing()\n",
        "(X_train, Y_train), (X_test, Y_test) = cifar10.load_data()\n",
        "\n",
        "\n",
        "model = build_model(X_train.shape[1],X_train.shape[2],X_train.shape[3] )\n",
        "\n",
        "hist = model.fit(\n",
        "    X_train, Y_train, \n",
        "    batch_size=48, epochs=30, \n",
        "    verbose=1, \n",
        "    shuffle=True, validation_split=0.05\n",
        ")\n",
        "\n",
        "model.evaluate(X_test, Y_test, verbose=1)"
      ],
      "execution_count": 18,
      "outputs": [
        {
          "output_type": "stream",
          "text": [
            "Epoch 1/30\n",
            "990/990 [==============================] - 4s 4ms/step - loss: 1.5763 - accuracy: 0.4191 - val_loss: 1.2698 - val_accuracy: 0.5588\n",
            "Epoch 2/30\n",
            "990/990 [==============================] - 4s 4ms/step - loss: 1.1936 - accuracy: 0.5734 - val_loss: 1.0352 - val_accuracy: 0.6404\n",
            "Epoch 3/30\n",
            "990/990 [==============================] - 4s 4ms/step - loss: 1.0391 - accuracy: 0.6311 - val_loss: 0.9864 - val_accuracy: 0.6516\n",
            "Epoch 4/30\n",
            "990/990 [==============================] - 4s 4ms/step - loss: 0.9437 - accuracy: 0.6665 - val_loss: 0.8769 - val_accuracy: 0.6876\n",
            "Epoch 5/30\n",
            "990/990 [==============================] - 4s 4ms/step - loss: 0.8671 - accuracy: 0.6952 - val_loss: 0.8307 - val_accuracy: 0.7132\n",
            "Epoch 6/30\n",
            "990/990 [==============================] - 4s 4ms/step - loss: 0.8032 - accuracy: 0.7158 - val_loss: 0.9000 - val_accuracy: 0.6972\n",
            "Epoch 7/30\n",
            "990/990 [==============================] - 4s 4ms/step - loss: 0.7555 - accuracy: 0.7339 - val_loss: 0.7795 - val_accuracy: 0.7416\n",
            "Epoch 8/30\n",
            "990/990 [==============================] - 4s 4ms/step - loss: 0.7168 - accuracy: 0.7456 - val_loss: 0.7711 - val_accuracy: 0.7344\n",
            "Epoch 9/30\n",
            "990/990 [==============================] - 4s 4ms/step - loss: 0.6769 - accuracy: 0.7624 - val_loss: 0.7797 - val_accuracy: 0.7324\n",
            "Epoch 10/30\n",
            "990/990 [==============================] - 4s 4ms/step - loss: 0.6492 - accuracy: 0.7706 - val_loss: 0.8035 - val_accuracy: 0.7280\n",
            "Epoch 11/30\n",
            "990/990 [==============================] - 4s 4ms/step - loss: 0.6180 - accuracy: 0.7833 - val_loss: 0.7255 - val_accuracy: 0.7644\n",
            "Epoch 12/30\n",
            "990/990 [==============================] - 4s 4ms/step - loss: 0.5926 - accuracy: 0.7898 - val_loss: 0.7243 - val_accuracy: 0.7572\n",
            "Epoch 13/30\n",
            "990/990 [==============================] - 4s 4ms/step - loss: 0.5615 - accuracy: 0.7994 - val_loss: 0.7859 - val_accuracy: 0.7364\n",
            "Epoch 14/30\n",
            "990/990 [==============================] - 4s 4ms/step - loss: 0.5434 - accuracy: 0.8057 - val_loss: 0.7504 - val_accuracy: 0.7520\n",
            "Epoch 15/30\n",
            "990/990 [==============================] - 4s 4ms/step - loss: 0.5230 - accuracy: 0.8149 - val_loss: 0.7285 - val_accuracy: 0.7648\n",
            "Epoch 16/30\n",
            "990/990 [==============================] - 4s 4ms/step - loss: 0.4995 - accuracy: 0.8232 - val_loss: 0.8308 - val_accuracy: 0.7272\n",
            "Epoch 17/30\n",
            "990/990 [==============================] - 4s 4ms/step - loss: 0.4869 - accuracy: 0.8256 - val_loss: 0.7503 - val_accuracy: 0.7612\n",
            "Epoch 18/30\n",
            "990/990 [==============================] - 4s 4ms/step - loss: 0.4611 - accuracy: 0.8346 - val_loss: 0.7588 - val_accuracy: 0.7592\n",
            "Epoch 19/30\n",
            "990/990 [==============================] - 4s 4ms/step - loss: 0.4518 - accuracy: 0.8382 - val_loss: 0.7574 - val_accuracy: 0.7600\n",
            "Epoch 20/30\n",
            "990/990 [==============================] - 4s 4ms/step - loss: 0.4336 - accuracy: 0.8427 - val_loss: 0.7930 - val_accuracy: 0.7504\n",
            "Epoch 21/30\n",
            "990/990 [==============================] - 4s 4ms/step - loss: 0.4219 - accuracy: 0.8481 - val_loss: 0.9133 - val_accuracy: 0.7464\n",
            "Epoch 22/30\n",
            "990/990 [==============================] - 4s 4ms/step - loss: 0.4001 - accuracy: 0.8554 - val_loss: 0.8428 - val_accuracy: 0.7552\n",
            "Epoch 23/30\n",
            "990/990 [==============================] - 4s 4ms/step - loss: 0.3896 - accuracy: 0.8595 - val_loss: 0.8352 - val_accuracy: 0.7616\n",
            "Epoch 24/30\n",
            "990/990 [==============================] - 4s 4ms/step - loss: 0.3791 - accuracy: 0.8627 - val_loss: 0.9144 - val_accuracy: 0.7468\n",
            "Epoch 25/30\n",
            "990/990 [==============================] - 4s 4ms/step - loss: 0.3620 - accuracy: 0.8698 - val_loss: 0.9730 - val_accuracy: 0.7512\n",
            "Epoch 26/30\n",
            "990/990 [==============================] - 4s 4ms/step - loss: 0.3514 - accuracy: 0.8725 - val_loss: 0.9563 - val_accuracy: 0.7516\n",
            "Epoch 27/30\n",
            "990/990 [==============================] - 4s 4ms/step - loss: 0.3460 - accuracy: 0.8748 - val_loss: 0.8670 - val_accuracy: 0.7632\n",
            "Epoch 28/30\n",
            "990/990 [==============================] - 4s 4ms/step - loss: 0.3273 - accuracy: 0.8813 - val_loss: 0.9560 - val_accuracy: 0.7652\n",
            "Epoch 29/30\n",
            "990/990 [==============================] - 4s 4ms/step - loss: 0.3207 - accuracy: 0.8836 - val_loss: 1.0034 - val_accuracy: 0.7492\n",
            "Epoch 30/30\n",
            "990/990 [==============================] - 4s 4ms/step - loss: 0.3130 - accuracy: 0.8871 - val_loss: 0.9415 - val_accuracy: 0.7612\n",
            "313/313 [==============================] - 1s 3ms/step - loss: 1.0913 - accuracy: 0.7310\n"
          ],
          "name": "stdout"
        },
        {
          "output_type": "execute_result",
          "data": {
            "text/plain": [
              "[1.0913456678390503, 0.7310000061988831]"
            ]
          },
          "metadata": {
            "tags": []
          },
          "execution_count": 18
        }
      ]
    },
    {
      "cell_type": "code",
      "metadata": {
        "id": "uSZy_30WEJbx",
        "colab_type": "code",
        "colab": {}
      },
      "source": [
        "import matplotlib.pyplot as plt"
      ],
      "execution_count": 19,
      "outputs": []
    },
    {
      "cell_type": "code",
      "metadata": {
        "id": "o_jYhv_fMqCr",
        "colab_type": "code",
        "colab": {
          "base_uri": "https://localhost:8080/",
          "height": 545
        },
        "outputId": "56a8eb2d-fa83-4e8b-c863-ce8f0ed2bc18"
      },
      "source": [
        "plt.plot(hist.history['loss'])\n",
        "plt.title(\"loss history\")\n",
        "plt.show()\n",
        "\n",
        "plt.plot(hist.history['accuracy'])\n",
        "plt.title(\"acc history\")\n",
        "plt.show()"
      ],
      "execution_count": 20,
      "outputs": [
        {
          "output_type": "display_data",
          "data": {
            "image/png": "[encoded data removed]",
            "text/plain": [
              "<Figure size 432x288 with 1 Axes>"
            ]
          },
          "metadata": {
            "tags": [],
            "needs_background": "light"
          }
        },
        {
          "output_type": "display_data",
          "data": {
            "image/png": "[encoded data removed]",
            "text/plain": [
              "<Figure size 432x288 with 1 Axes>"
            ]
          },
          "metadata": {
            "tags": [],
            "needs_background": "light"
          }
        }
      ]
    }
  ]
}